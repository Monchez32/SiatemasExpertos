{
  "nbformat": 4,
  "nbformat_minor": 0,
  "metadata": {
    "colab": {
      "name": "asignacio_03.ipynb",
      "provenance": [],
      "collapsed_sections": [],
      "authorship_tag": "ABX9TyPwol5bZMAkchWRB1Ct7PUW",
      "include_colab_link": true
    },
    "kernelspec": {
      "name": "python3",
      "display_name": "Python 3"
    }
  },
  "cells": [
    {
      "cell_type": "markdown",
      "metadata": {
        "id": "view-in-github",
        "colab_type": "text"
      },
      "source": [
        "<a href=\"https://colab.research.google.com/github/Monchez32/SiatemasExpertos/blob/master/asignacio_03.ipynb\" target=\"_parent\"><img src=\"https://colab.research.google.com/assets/colab-badge.svg\" alt=\"Open In Colab\"/></a>"
      ]
    },
    {
      "cell_type": "markdown",
      "metadata": {
        "id": "-3t4VOk2heEq",
        "colab_type": "text"
      },
      "source": [
        "Como estrategia de fidelización de clientes, para la festividad de la natividad del 2020 la compañía va a\n",
        "regalar a cada cliente la selección si ésta tiene un costo menor a $25. Se solicita que codifique una\n",
        "solución para determinar el monto que la compañía va a invernir en esta campaña"
      ]
    },
    {
      "cell_type": "markdown",
      "metadata": {
        "id": "Ux01cU76jqr1",
        "colab_type": "text"
      },
      "source": [
        "Solucion 1"
      ]
    },
    {
      "cell_type": "code",
      "metadata": {
        "id": "N8i_UtVkhUSv",
        "colab_type": "code",
        "colab": {}
      },
      "source": [
        "import time\n",
        "import pandas as pd\n",
        "import numpy as np "
      ],
      "execution_count": 1,
      "outputs": []
    },
    {
      "cell_type": "code",
      "metadata": {
        "id": "owExpHoV2lA3",
        "colab_type": "code",
        "colab": {}
      },
      "source": [
        "listado_clientes = np.genfromtxt('costos.txt', delimiter='\\n')\n"
      ],
      "execution_count": 15,
      "outputs": []
    },
    {
      "cell_type": "code",
      "metadata": {
        "id": "M2Fn8rv5iqDR",
        "colab_type": "code",
        "colab": {
          "base_uri": "https://localhost:8080/",
          "height": 68
        },
        "outputId": "99d5b050-8e4e-4b5b-dc51-723a5a823663"
      },
      "source": [
        "inicio = time.time()\n",
        "\n",
        "costos_campaña = listado_clientes[listado_clientes <= 25]\n",
        "resultado_inversion = np.sum(costos_campaña)\n",
        "ahorro_campaña = listado_clientes[listado_clientes >25]\n",
        "resultado_ahorro = np.sum(ahorro_campaña)\n",
        "\n",
        "\n",
        "print('inversion:','$',resultado_inversion)\n",
        "print('ahorro:','$',resultado_ahorro)\n",
        "print('Duracion: {} segundos'.format(time.time() - inicio))"
      ],
      "execution_count": 17,
      "outputs": [
        {
          "output_type": "stream",
          "text": [
            "inversion: $ 32869928.0\n",
            "ahorro: $ 467030128.0\n",
            "Duracion: 0.17381548881530762 segundos\n"
          ],
          "name": "stdout"
        }
      ]
    },
    {
      "cell_type": "markdown",
      "metadata": {
        "id": "ykZhDHmgMIdC",
        "colab_type": "text"
      },
      "source": [
        "segunda opción"
      ]
    },
    {
      "cell_type": "code",
      "metadata": {
        "id": "16jKeoZdiDBV",
        "colab_type": "code",
        "colab": {}
      },
      "source": [
        "with open('costos.txt') as f:\n",
        "    fidelizacion_clientes = list(map(int,f.read().split('\\n')))\n",
        "    "
      ],
      "execution_count": 6,
      "outputs": []
    },
    {
      "cell_type": "code",
      "metadata": {
        "id": "10Ig7iOZMM6f",
        "colab_type": "code",
        "colab": {
          "base_uri": "https://localhost:8080/",
          "height": 51
        },
        "outputId": "3dd3fdd3-5223-4f30-a966-55d74bdb9028"
      },
      "source": [
        "inicio = time.time()\n",
        "fidelizacion= np.array(fidelizacion_clientes)\n",
        "menor = []\n",
        "#comparacion  \n",
        "for valor in fidelizacion:\n",
        "    if valor <= 25:\n",
        "        menor.append(valor)\n",
        "inversion_total = np.sum(menor)\n",
        "\n",
        "print('inversion $', inversion_total)\n",
        "print('Tiempo: {} segundos'.format(time.time() - inicio))\n"
      ],
      "execution_count": 20,
      "outputs": [
        {
          "output_type": "stream",
          "text": [
            "inversion $ 32869928\n",
            "Tiempo: 4.478031396865845 segundos\n"
          ],
          "name": "stdout"
        }
      ]
    }
  ]
}