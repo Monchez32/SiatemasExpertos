{
  "nbformat": 4,
  "nbformat_minor": 0,
  "metadata": {
    "colab": {
      "name": "lab2_2016011034.ipynb",
      "provenance": [],
      "authorship_tag": "ABX9TyOf+rtD8y58rGd8QNjPBEAb",
      "include_colab_link": true
    },
    "kernelspec": {
      "name": "python3",
      "display_name": "Python 3"
    }
  },
  "cells": [
    {
      "cell_type": "markdown",
      "metadata": {
        "id": "view-in-github",
        "colab_type": "text"
      },
      "source": [
        "<a href=\"https://colab.research.google.com/github/Monchez32/SiatemasExpertos/blob/desarrollo1/lab2_2016011034.ipynb\" target=\"_parent\"><img src=\"https://colab.research.google.com/assets/colab-badge.svg\" alt=\"Open In Colab\"/></a>"
      ]
    },
    {
      "cell_type": "markdown",
      "metadata": {
        "id": "YTWdwSRtOupV"
      },
      "source": [
        "ESCENARIO LABORATORIO:\n",
        "Se solicita que codifique una solución que cumpla con las siguientes características"
      ]
    },
    {
      "cell_type": "code",
      "metadata": {
        "id": "ifqBp89Amudh"
      },
      "source": [
        "import numpy as np \n",
        "import time"
      ],
      "execution_count": null,
      "outputs": []
    },
    {
      "cell_type": "markdown",
      "metadata": {
        "id": "LGmbBokRI-Vd"
      },
      "source": [
        "\n",
        "1.   Generar una estructura de datos que almacene 10 millones de puntos en una \n",
        "distribución normal con una media de 500 y una escala de 30.\n",
        "\n",
        "\n",
        "\n"
      ]
    },
    {
      "cell_type": "code",
      "metadata": {
        "id": "K-RpT4Hku3uC"
      },
      "source": [
        "generar_datos= np.random.normal(500,30,10000000)\n",
        "#print(generar_datos)\n",
        "#se guardan los datos generados en lab2.txt\n",
        "np.savetxt('lab2.txt', generar_datos)"
      ],
      "execution_count": null,
      "outputs": []
    },
    {
      "cell_type": "code",
      "metadata": {
        "id": "e2cnTgMfxIeu"
      },
      "source": [
        "#cargamos la base de datos con el fin de utilizar la misma siempre \n",
        "base_datos= np.loadtxt(\"lab2.txt\")\n",
        "#print(base_datos )"
      ],
      "execution_count": null,
      "outputs": []
    },
    {
      "cell_type": "markdown",
      "metadata": {
        "id": "_bzkt85oP15r"
      },
      "source": [
        "2. Iterarla exclusivamente con estructuras de control\n",
        "3. Calcular la sumatoria de los puntos que son menores a 500,000\n",
        "4. Devolver el valor de la sumatoria y el tiempo en que la lógica de negocios del problema\n",
        "tardo en ejecutarse"
      ]
    },
    {
      "cell_type": "code",
      "metadata": {
        "id": "oMosVL-Yz7zy",
        "outputId": "e3cfdf03-5712-450c-d9d9-bcbe7c886907",
        "colab": {
          "base_uri": "https://localhost:8080/",
          "height": 51
        }
      },
      "source": [
        "inicio = time.time()\n",
        "menor = []\n",
        "#se realiza la comparacion y se guarda la sumatoria \n",
        "for valor in base_datos:\n",
        "    if valor < 500000:\n",
        "        menor.append(valor)\n",
        "sumatoria_total = np.sum(menor)\n",
        "\n",
        "print('Sumatoria total es', sumatoria_total)\n",
        "print('Tiempo: {} segundos'.format(time.time() - inicio))"
      ],
      "execution_count": null,
      "outputs": [
        {
          "output_type": "stream",
          "text": [
            "Sumatoria total es 5000111257.165228\n",
            "Tiempo: 5.445775032043457 segundos\n"
          ],
          "name": "stdout"
        }
      ]
    }
  ]
}