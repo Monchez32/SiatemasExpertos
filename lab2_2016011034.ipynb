{
  "nbformat": 4,
  "nbformat_minor": 0,
  "metadata": {
    "colab": {
      "name": "lab2_2016011034.ipynb",
      "provenance": [],
      "authorship_tag": "ABX9TyP45G1LCOVmgGyNRU4BDUgX",
      "include_colab_link": true
    },
    "kernelspec": {
      "name": "python3",
      "display_name": "Python 3"
    }
  },
  "cells": [
    {
      "cell_type": "markdown",
      "metadata": {
        "id": "view-in-github",
        "colab_type": "text"
      },
      "source": [
        "<a href=\"https://colab.research.google.com/github/Monchez32/SiatemasExpertos/blob/desarrollo1/lab2_2016011034.ipynb\" target=\"_parent\"><img src=\"https://colab.research.google.com/assets/colab-badge.svg\" alt=\"Open In Colab\"/></a>"
      ]
    },
    {
      "cell_type": "code",
      "metadata": {
        "id": "ifqBp89Amudh"
      },
      "source": [
        "import numpy as np \n",
        "import time"
      ],
      "execution_count": null,
      "outputs": []
    },
    {
      "cell_type": "code",
      "metadata": {
        "id": "K-RpT4Hku3uC"
      },
      "source": [
        "\n",
        "genera_datos= np.random.normal(500,30,10000000)\n",
        "print(generar_datos)\n",
        "\n",
        "np.savetxt('prueba.txt', generar_datos)"
      ],
      "execution_count": null,
      "outputs": []
    },
    {
      "cell_type": "code",
      "metadata": {
        "id": "e2cnTgMfxIeu"
      },
      "source": [
        "b= np.loadtxt(\"prueba.txt\")\n",
        "print(b)"
      ],
      "execution_count": null,
      "outputs": []
    },
    {
      "cell_type": "code",
      "metadata": {
        "id": "oMosVL-Yz7zy",
        "outputId": "bbb8fa59-819c-40fd-ad51-f70de4aed1f6",
        "colab": {
          "base_uri": "https://localhost:8080/",
          "height": 51
        }
      },
      "source": [
        "inicio = time.time()\n",
        "menor = []\n",
        "#comparacion  \n",
        "for valor in b:\n",
        "    if valor < 500000:\n",
        "        menor.append(valor)\n",
        "sumatoria_total = np.sum(menor)\n",
        "\n",
        "print('inversion $', sumatoria_total)\n",
        "print('Tiempo: {} segundos'.format(time.time() - inicio))"
      ],
      "execution_count": 16,
      "outputs": [
        {
          "output_type": "stream",
          "text": [
            "inversion $ 5000099061.867043\n",
            "Tiempo: 5.416783809661865 segundos\n"
          ],
          "name": "stdout"
        }
      ]
    }
  ]
}