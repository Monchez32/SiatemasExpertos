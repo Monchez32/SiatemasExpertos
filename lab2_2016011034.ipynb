{
  "nbformat": 4,
  "nbformat_minor": 0,
  "metadata": {
    "colab": {
      "name": "lab2_2016011034.ipynb",
      "provenance": [],
      "authorship_tag": "ABX9TyNWoiHxcdfRgoQXyQ/6Rtrd",
      "include_colab_link": true
    },
    "kernelspec": {
      "name": "python3",
      "display_name": "Python 3"
    }
  },
  "cells": [
    {
      "cell_type": "markdown",
      "metadata": {
        "id": "view-in-github",
        "colab_type": "text"
      },
      "source": [
        "<a href=\"https://colab.research.google.com/github/Monchez32/SiatemasExpertos/blob/desarrollo1/lab2_2016011034.ipynb\" target=\"_parent\"><img src=\"https://colab.research.google.com/assets/colab-badge.svg\" alt=\"Open In Colab\"/></a>"
      ]
    },
    {
      "cell_type": "code",
      "metadata": {
        "id": "ifqBp89Amudh"
      },
      "source": [
        "import numpy as np \n",
        "import random as rd \n",
        "import time"
      ],
      "execution_count": null,
      "outputs": []
    },
    {
      "cell_type": "code",
      "metadata": {
        "id": "K-RpT4Hku3uC"
      },
      "source": [
        "#a = np.arange(30).reshape((10,-1))\n",
        "a= np.random.normal(500,30,10000000)\n",
        "print(a)\n",
        "\n",
        "np.savetxt('prueba.txt', a)"
      ],
      "execution_count": null,
      "outputs": []
    },
    {
      "cell_type": "code",
      "metadata": {
        "id": "e2cnTgMfxIeu"
      },
      "source": [
        "b= np.loadtxt(\"prueba.txt\")\n",
        "print(b)"
      ],
      "execution_count": null,
      "outputs": []
    }
  ]
}