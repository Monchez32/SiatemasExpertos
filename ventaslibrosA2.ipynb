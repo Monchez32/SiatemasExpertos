{
  "nbformat": 4,
  "nbformat_minor": 0,
  "metadata": {
    "kernelspec": {
      "display_name": "Python 3",
      "language": "python",
      "name": "python3"
    },
    "language_info": {
      "codemirror_mode": {
        "name": "ipython",
        "version": 3
      },
      "file_extension": ".py",
      "mimetype": "text/x-python",
      "name": "python",
      "nbconvert_exporter": "python",
      "pygments_lexer": "ipython3",
      "version": "3.6.9"
    },
    "colab": {
      "name": "ventaslibrosA2.ipynb",
      "provenance": [],
      "collapsed_sections": [],
      "include_colab_link": true
    }
  },
  "cells": [
    {
      "cell_type": "markdown",
      "metadata": {
        "id": "view-in-github",
        "colab_type": "text"
      },
      "source": [
        "<a href=\"https://colab.research.google.com/github/Monchez32/SiatemasExpertos/blob/master/ventaslibrosA2.ipynb\" target=\"_parent\"><img src=\"https://colab.research.google.com/assets/colab-badge.svg\" alt=\"Open In Colab\"/></a>"
      ]
    },
    {
      "cell_type": "markdown",
      "metadata": {
        "id": "Eu0qkHjQRsPJ",
        "colab_type": "text"
      },
      "source": [
        "Optimizacion de Codigo, Ejemplo 1: Identificacion de Ventas en un periodo\n",
        "Generar metricas de desempeño es una tarea muy frecuente en cualquier ambito de negocio, el siguiente codigo fue escrito para identificar qué libros fueron vendidos a partir de un listado especifico:"
      ]
    },
    {
      "cell_type": "code",
      "metadata": {
        "id": "E_idcI2CRsPL",
        "colab_type": "code",
        "colab": {}
      },
      "source": [
        "import time\n",
        "import pandas as pd\n",
        "import numpy as np"
      ],
      "execution_count": 11,
      "outputs": []
    },
    {
      "cell_type": "code",
      "metadata": {
        "id": "9x9ZB7_LRsPT",
        "colab_type": "code",
        "colab": {}
      },
      "source": [
        "with open('libros_24_meses.txt') as f:\n",
        "    periodo24_ventas_libros = f.read().split('\\n')\n",
        "    \n",
        "with open('catalogo_libros.txt') as f:\n",
        "    catalogo_libros = f.read().split('\\n')"
      ],
      "execution_count": 12,
      "outputs": []
    },
    {
      "cell_type": "code",
      "metadata": {
        "id": "iiH3Ko27RsPa",
        "colab_type": "code",
        "colab": {
          "base_uri": "https://localhost:8080/",
          "height": 51
        },
        "outputId": "fbfbb655-31fc-4e40-823a-c6bb2e44ec17"
      },
      "source": [
        "inicio = time.time()\n",
        "libros_vendidos = []\n",
        "\n",
        "for libro in periodo24_ventas_libros:\n",
        "    if libro in catalogo_libros:\n",
        "        libros_vendidos.append(libro)\n",
        "\n",
        "print(len(libros_vendidos))\n",
        "print('Duracion: {} segundos'.format(time.time() - inicio))"
      ],
      "execution_count": 13,
      "outputs": [
        {
          "output_type": "stream",
          "text": [
            "96\n",
            "Duracion: 11.794094324111938 segundos\n"
          ],
          "name": "stdout"
        }
      ]
    },
    {
      "cell_type": "markdown",
      "metadata": {
        "id": "1NYUkMs9RsPl",
        "colab_type": "text"
      },
      "source": [
        "Propuesta de optimizacion 1: utilizar operaciones con vectores en lugar de estructuras de control repetitivas cuando esto sea posible; para este escenario se propone evaluar el uso del metodo intersect1d de la libreria numpy para que nos permita obtener la interseccion de ambos dataset:"
      ]
    },
    {
      "cell_type": "code",
      "metadata": {
        "id": "6hsDM1j9bWIz",
        "colab_type": "code",
        "colab": {
          "base_uri": "https://localhost:8080/",
          "height": 51
        },
        "outputId": "d519ed61-1200-463d-b53e-4691d10adee7"
      },
      "source": [
        "inicio = time.time()\n",
        "libros_vendidos = np.intersect1d(periodo24_ventas_libros, catalogo_libros)\n",
        "print(len(libros_vendidos))\n",
        "print('Duracion: {} segundos'.format(time.time() - inicio))"
      ],
      "execution_count": 14,
      "outputs": [
        {
          "output_type": "stream",
          "text": [
            "96\n",
            "Duracion: 0.0435481071472168 segundos\n"
          ],
          "name": "stdout"
        }
      ]
    },
    {
      "cell_type": "markdown",
      "metadata": {
        "id": "xN5LBl4NRsPu",
        "colab_type": "text"
      },
      "source": [
        "Asignacion 2:Otro enfoque para optimizar el codigo fuente puede ser..."
      ]
    },
    {
      "cell_type": "code",
      "metadata": {
        "id": "JH-KcbklRsPm",
        "colab_type": "code",
        "colab": {
          "base_uri": "https://localhost:8080/",
          "height": 51
        },
        "outputId": "627196ba-d09f-496a-ceb1-5ed55747aee1"
      },
      "source": [
        "inicio = time.time()\n",
        "libros_vendidos = np.sort(np.array(np.intersect1d(periodo24_ventas_libros, \n",
        "                                          catalogo_libros)))\n",
        "print(len(libros_vendidos))\n",
        "print('Duracion: {} segundos'.format(time.time() - inicio))"
      ],
      "execution_count": 15,
      "outputs": [
        {
          "output_type": "stream",
          "text": [
            "96\n",
            "Duracion: 0.03371715545654297 segundos\n"
          ],
          "name": "stdout"
        }
      ]
    },
    {
      "cell_type": "code",
      "metadata": {
        "id": "4J84b_H2tS75",
        "colab_type": "code",
        "colab": {
          "base_uri": "https://localhost:8080/",
          "height": 51
        },
        "outputId": "547a5b3f-3dcb-46ac-811c-c754c85a875a"
      },
      "source": [
        "inicio = time.time()\n",
        "libros_vendidos = []\n",
        "\n",
        "for libro in np.intersect1d(periodo24_ventas_libros,catalogo_libros):\n",
        "        libros_vendidos.append(libro)\n",
        "\n",
        "print(len(libros_vendidos))\n",
        "print('Duracion: {} segundos'.format(time.time() - inicio))"
      ],
      "execution_count": 16,
      "outputs": [
        {
          "output_type": "stream",
          "text": [
            "96\n",
            "Duracion: 0.033599138259887695 segundos\n"
          ],
          "name": "stdout"
        }
      ]
    }
  ]
}