{
  "nbformat": 4,
  "nbformat_minor": 0,
  "metadata": {
    "colab": {
      "name": "Parcial2_2016011034.ipynb",
      "provenance": [],
      "authorship_tag": "ABX9TyO939H98ocuKK0BnHv4uFpg",
      "include_colab_link": true
    },
    "kernelspec": {
      "name": "python3",
      "display_name": "Python 3"
    }
  },
  "cells": [
    {
      "cell_type": "markdown",
      "metadata": {
        "id": "view-in-github",
        "colab_type": "text"
      },
      "source": [
        "<a href=\"https://colab.research.google.com/github/Monchez32/SiatemasExpertos/blob/desarrollo2/Parcial2_2016011034.ipynb\" target=\"_parent\"><img src=\"https://colab.research.google.com/assets/colab-badge.svg\" alt=\"Open In Colab\"/></a>"
      ]
    },
    {
      "cell_type": "code",
      "metadata": {
        "id": "bno571GS58_M"
      },
      "source": [
        "import numpy as np\n",
        "import time"
      ],
      "execution_count": null,
      "outputs": []
    },
    {
      "cell_type": "code",
      "metadata": {
        "id": "ft6_UHfK8Qae"
      },
      "source": [
        "generar_datos= np.random.normal(500,30,10000000)\n",
        "#print(generar_datos)\n",
        "#se guardan los datos generados en parcial2.txt\n",
        "np.savetxt('parcial2.txt', generar_datos)"
      ],
      "execution_count": null,
      "outputs": []
    },
    {
      "cell_type": "code",
      "metadata": {
        "id": "pH3XnMWJ7Ycf"
      },
      "source": [
        "base_datos = np.genfromtxt('parcial2.txt', delimiter='\\n')"
      ],
      "execution_count": null,
      "outputs": []
    },
    {
      "cell_type": "code",
      "metadata": {
        "id": "GwpOZeV-79x3",
        "outputId": "4740ed8f-7dfa-49e4-a361-e5e68a9da1e6",
        "colab": {
          "base_uri": "https://localhost:8080/",
          "height": 51
        }
      },
      "source": [
        "inicio = time.time()\n",
        "\n",
        "puntos_menores = base_datos[base_datos <= 500000]\n",
        "sumatoria_total = np.sum(puntos_menores)\n",
        "\n",
        "print('La sumatoria total es:',sumatoria_total)\n",
        "print('Duracion: {} segundos'.format(time.time() - inicio))"
      ],
      "execution_count": null,
      "outputs": [
        {
          "output_type": "stream",
          "text": [
            "La sumatoria total es: 5000128587.701568\n",
            "Duracion: 0.060827016830444336 segundos\n"
          ],
          "name": "stdout"
        }
      ]
    }
  ]
}