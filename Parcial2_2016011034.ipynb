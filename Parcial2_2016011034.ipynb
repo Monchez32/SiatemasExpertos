{
  "nbformat": 4,
  "nbformat_minor": 0,
  "metadata": {
    "colab": {
      "name": "Parcial2_2016011034.ipynb",
      "provenance": [],
      "authorship_tag": "ABX9TyPwUFVpKhsqEALlZw0n9DK3",
      "include_colab_link": true
    },
    "kernelspec": {
      "name": "python3",
      "display_name": "Python 3"
    }
  },
  "cells": [
    {
      "cell_type": "markdown",
      "metadata": {
        "id": "view-in-github",
        "colab_type": "text"
      },
      "source": [
        "<a href=\"https://colab.research.google.com/github/Monchez32/SiatemasExpertos/blob/desarrollo2/Parcial2_2016011034.ipynb\" target=\"_parent\"><img src=\"https://colab.research.google.com/assets/colab-badge.svg\" alt=\"Open In Colab\"/></a>"
      ]
    },
    {
      "cell_type": "code",
      "metadata": {
        "id": "bno571GS58_M"
      },
      "source": [
        "import numpy as np\n",
        "import time"
      ],
      "execution_count": 2,
      "outputs": []
    }
  ]
}