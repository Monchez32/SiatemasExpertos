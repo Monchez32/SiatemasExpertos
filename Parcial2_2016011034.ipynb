{
  "nbformat": 4,
  "nbformat_minor": 0,
  "metadata": {
    "colab": {
      "name": "Parcial2_2016011034.ipynb",
      "provenance": [],
      "authorship_tag": "ABX9TyMmCi/uaDhJ+HdJ3/WDIJwF",
      "include_colab_link": true
    },
    "kernelspec": {
      "name": "python3",
      "display_name": "Python 3"
    }
  },
  "cells": [
    {
      "cell_type": "markdown",
      "metadata": {
        "id": "view-in-github",
        "colab_type": "text"
      },
      "source": [
        "<a href=\"https://colab.research.google.com/github/Monchez32/SiatemasExpertos/blob/desarrollo2/Parcial2_2016011034.ipynb\" target=\"_parent\"><img src=\"https://colab.research.google.com/assets/colab-badge.svg\" alt=\"Open In Colab\"/></a>"
      ]
    },
    {
      "cell_type": "markdown",
      "metadata": {
        "id": "tt-o24w8Im-X"
      },
      "source": [
        "ESCENARIO PARCIAL:\n",
        "1. Codificar una solución que optimice la ejecución del planteamiento del laboratorio."
      ]
    },
    {
      "cell_type": "code",
      "metadata": {
        "id": "bno571GS58_M"
      },
      "source": [
        "import numpy as np\n",
        "import time"
      ],
      "execution_count": null,
      "outputs": []
    },
    {
      "cell_type": "code",
      "metadata": {
        "id": "ft6_UHfK8Qae"
      },
      "source": [
        "generar_datos= np.random.normal(500,30,10000000)\n",
        "#se guardan los datos generados en parcial2.txt\n",
        "np.savetxt('parcial2.txt', generar_datos)"
      ],
      "execution_count": null,
      "outputs": []
    },
    {
      "cell_type": "code",
      "metadata": {
        "id": "pH3XnMWJ7Ycf"
      },
      "source": [
        "#extraemos  los datos del archivo parcial2.txt\n",
        "base_datos = np.genfromtxt('parcial2.txt', delimiter='\\n')"
      ],
      "execution_count": null,
      "outputs": []
    },
    {
      "cell_type": "code",
      "metadata": {
        "id": "GwpOZeV-79x3",
        "outputId": "a4502f25-50c4-47b4-e4ac-735ccd5c0dbd",
        "colab": {
          "base_uri": "https://localhost:8080/",
          "height": 51
        }
      },
      "source": [
        "inicio = time.time()\n",
        "\n",
        "puntos_menores = base_datos[base_datos < 500000]\n",
        "sumatoria_total = np.sum(puntos_menores)\n",
        "\n",
        "print('La sumatoria total es:',sumatoria_total)\n",
        "print('Duracion: {} segundos'.format(time.time() - inicio))"
      ],
      "execution_count": 9,
      "outputs": [
        {
          "output_type": "stream",
          "text": [
            "La sumatoria total es: 5000128587.701568\n",
            "Duracion: 0.05808591842651367 segundos\n"
          ],
          "name": "stdout"
        }
      ]
    }
  ]
}